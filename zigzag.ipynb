{
  "nbformat": 4,
  "nbformat_minor": 0,
  "metadata": {
    "colab": {
      "name": "zigzag.ipynb",
      "provenance": [],
      "authorship_tag": "ABX9TyNLV1RRhFaL6Lwpgu/ARI2t"
    },
    "kernelspec": {
      "name": "python3",
      "display_name": "Python 3"
    },
    "language_info": {
      "name": "python"
    }
  },
  "cells": [
    {
      "cell_type": "code",
      "execution_count": null,
      "metadata": {
        "id": "wlpqG0NbMzvh"
      },
      "outputs": [],
      "source": [
        "import time, sus\n",
        "indent = 0\n",
        "indentIncreasing = True\n",
        "try :\n",
        "  while True :\n",
        "    print( ' ' * indent, end = '' )\n",
        "    print( '* * * * * * * *' )\n",
        "    time.sleep( 0.1 )\n",
        "    if indentIncreasing :\n",
        "      indent = indent + 1\n",
        "      if indent == 20 :\n",
        "        indentIncreasing = False\n",
        "    else :\n",
        "      indent = indent - 1\n",
        "      if indent == 20 :\n",
        "        indentIncreasing = True\n",
        "except KeyboardInterrupt :\n",
        "  sys.exit()"
      ]
    }
  ]
}