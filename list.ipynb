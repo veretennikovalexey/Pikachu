{
  "nbformat": 4,
  "nbformat_minor": 0,
  "metadata": {
    "colab": {
      "name": "list.ipynb",
      "provenance": [],
      "authorship_tag": "ABX9TyOAKSBer8t0g0Yjx6+uABOM"
    },
    "kernelspec": {
      "name": "python3",
      "display_name": "Python 3"
    },
    "language_info": {
      "name": "python"
    }
  },
  "cells": [
    {
      "cell_type": "code",
      "execution_count": 2,
      "metadata": {
        "colab": {
          "base_uri": "https://localhost:8080/"
        },
        "id": "pwGL1oGOmH5N",
        "outputId": "7e552895-ddc9-4440-d3b8-1f88ed1d312b"
      },
      "outputs": [
        {
          "output_type": "stream",
          "name": "stdout",
          "text": [
            "Очень сомнительно\n"
          ]
        }
      ],
      "source": [
        "import random\n",
        "\n",
        "msg = [ 'Это несомненно', 'Это определенно так', 'Да' ]\n",
        "msg = msg + ['Ответ туманный, попробуй ещё раз', 'Спроси позже' ]\n",
        "msg = msg + ['Сконцентрируйся и спроси снова', 'Мой ответ - нет']\n",
        "msg = msg + ['Перспективы не очень хорошие', 'Очень сомнительно' ]\n",
        "lenmsg = len( msg ) - 1\n",
        "ii = random.randint( 0, lenmsg )\n",
        "print( msg[ ii ] )\n",
        "\n",
        "# Любит ли меня моя жена ?"
      ]
    }
  ]
}