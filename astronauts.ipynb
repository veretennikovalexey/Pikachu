{
  "nbformat": 4,
  "nbformat_minor": 0,
  "metadata": {
    "colab": {
      "name": "astronauts.ipynb",
      "provenance": [],
      "authorship_tag": "ABX9TyNAUMnXCf9Fvxwz7M/E6Lij"
    },
    "kernelspec": {
      "name": "python3",
      "display_name": "Python 3"
    },
    "language_info": {
      "name": "python"
    }
  },
  "cells": [
    {
      "cell_type": "code",
      "execution_count": 4,
      "metadata": {
        "colab": {
          "base_uri": "https://localhost:8080/"
        },
        "id": "Nfwr4JoEldFM",
        "outputId": "7ab7cd72-0b40-49ae-ed73-350cc8d0684f"
      },
      "outputs": [
        {
          "output_type": "stream",
          "name": "stdout",
          "text": [
            "Oleg Artemyev\n",
            "Denis Matveev\n",
            "Sergey Korsakov\n",
            "Kjell Lindgren\n",
            "Bob Hines\n",
            "Samantha Cristoforetti\n",
            "Jessica Watkins\n",
            "Cai Xuzhe\n",
            "Chen Dong\n",
            "Liu Yang\n"
          ]
        }
      ],
      "source": [
        "import requests\n",
        "import json\n",
        "\n",
        "astronauts = 'http://api.open-notify.org/astros.json'\n",
        "rg = requests.get( astronauts )\n",
        "js = rg.json()\n",
        "people = js[ 'people' ]\n",
        "# print( js[ 'people' ] )\n",
        "for name in people :\n",
        "  print( name[ 'name' ] )"
      ]
    }
  ]
}