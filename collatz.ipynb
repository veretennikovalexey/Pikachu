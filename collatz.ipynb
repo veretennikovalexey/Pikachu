{
  "nbformat": 4,
  "nbformat_minor": 0,
  "metadata": {
    "colab": {
      "name": "collatz.ipynb",
      "provenance": [],
      "authorship_tag": "ABX9TyNntcSsAvAI7c40wIG8H1bY"
    },
    "kernelspec": {
      "name": "python3",
      "display_name": "Python 3"
    },
    "language_info": {
      "name": "python"
    }
  },
  "cells": [
    {
      "cell_type": "code",
      "execution_count": null,
      "metadata": {
        "colab": {
          "base_uri": "https://localhost:8080/"
        },
        "id": "ge5oaJT8S79U",
        "outputId": "313241b3-6e28-4375-bc93-ecf37665c597"
      },
      "outputs": [
        {
          "output_type": "stream",
          "name": "stdout",
          "text": [
            "19\n",
            "58\n",
            "29\n",
            "88\n",
            "44\n",
            "22\n",
            "11\n",
            "34\n",
            "17\n",
            "52\n",
            "26\n",
            "13\n",
            "40\n",
            "20\n",
            "10\n",
            "5\n",
            "16\n",
            "8\n",
            "4\n",
            "2\n",
            "1\n"
          ]
        }
      ],
      "source": [
        "number = int( input() )\n",
        "while number != 1 :\n",
        "  if number % 2 == 0 :\n",
        "    number = number // 2\n",
        "  elif number % 2 == 1 :\n",
        "    number = number * 3 + 1\n",
        "  print( number )\n",
        "\n"
      ]
    }
  ]
}