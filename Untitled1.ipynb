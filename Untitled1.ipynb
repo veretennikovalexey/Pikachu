{
  "cells": [
    {
      "cell_type": "markdown",
      "metadata": {},
      "source": [
        "Игра \"Угадай число\""
      ]
    },
    {
      "cell_type": "markdown",
      "metadata": {
        "colab_type": "text",
        "id": "view-in-github"
      },
      "source": [
        "<a href=\"https://colab.research.google.com/github/veretennikovalexey/Pikachu/blob/main/Untitled1.ipynb\" target=\"_parent\"><img src=\"https://colab.research.google.com/assets/colab-badge.svg\" alt=\"Open In Colab\"/></a>"
      ]
    },
    {
      "cell_type": "code",
      "execution_count": null,
      "metadata": {
        "colab": {
          "base_uri": "https://localhost:8080/"
        },
        "id": "_1wtF1LPNBxp",
        "outputId": "a63d1b48-c9c9-4698-ed87-60f7f60f9898"
      },
      "outputs": [
        {
          "name": "stdout",
          "output_type": "stream",
          "text": [
            "20\n",
            "less\n",
            "10\n",
            "less\n",
            "5\n",
            "more\n",
            "8\n",
            "more\n",
            "9\n",
            "yes ! Количество попыток: ( 5 )\n"
          ]
        }
      ],
      "source": [
        "import random\n",
        "rr = random.randint( 1, 100 )\n",
        "for ii in range( 1, 10 ) :\n",
        "  guess = int( input() )\n",
        "  if guess < rr :\n",
        "    print( 'more' )\n",
        "  elif guess > rr :\n",
        "    print( 'less' )\n",
        "  else :\n",
        "    break \n",
        "if guess == rr :\n",
        "  print( 'yes ! Количество попыток: ( ' + str( ii ) + ' )' )      \n",
        "else :\n",
        "  print( 'noooo. It was ' + str( rr )  )  \n"
      ]
    }
  ],
  "metadata": {
    "colab": {
      "authorship_tag": "ABX9TyOeTDpVX2CaZL880txiR8BG",
      "include_colab_link": true,
      "name": "Untitled1.ipynb",
      "provenance": []
    },
    "kernelspec": {
      "display_name": "Python 3",
      "name": "python3"
    },
    "language_info": {
      "name": "python"
    }
  },
  "nbformat": 4,
  "nbformat_minor": 0
}
