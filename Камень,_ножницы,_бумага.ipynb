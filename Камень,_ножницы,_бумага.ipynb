{
  "nbformat": 4,
  "nbformat_minor": 0,
  "metadata": {
    "colab": {
      "name": "Камень, ножницы, бумага.ipynb",
      "provenance": [],
      "authorship_tag": "ABX9TyPCRK8qj0HmaVZb8/29NL4l",
      "include_colab_link": true
    },
    "kernelspec": {
      "name": "python3",
      "display_name": "Python 3"
    },
    "language_info": {
      "name": "python"
    }
  },
  "cells": [
    {
      "cell_type": "markdown",
      "metadata": {
        "id": "view-in-github",
        "colab_type": "text"
      },
      "source": [
        "<a href=\"https://colab.research.google.com/github/veretennikovalexey/Pikachu/blob/main/%D0%9A%D0%B0%D0%BC%D0%B5%D0%BD%D1%8C%2C_%D0%BD%D0%BE%D0%B6%D0%BD%D0%B8%D1%86%D1%8B%2C_%D0%B1%D1%83%D0%BC%D0%B0%D0%B3%D0%B0.ipynb\" target=\"_parent\"><img src=\"https://colab.research.google.com/assets/colab-badge.svg\" alt=\"Open In Colab\"/></a>"
      ]
    },
    {
      "cell_type": "code",
      "execution_count": null,
      "metadata": {
        "colab": {
          "base_uri": "https://localhost:8080/"
        },
        "id": "LtpGomaHt6yy",
        "outputId": "5776e0bf-9adf-4914-b53c-5945a99de514"
      },
      "outputs": [
        {
          "output_type": "stream",
          "name": "stdout",
          "text": [
            "камень, ножницы, бумага\n",
            " 0 0 0\n",
            "к н б или в\n",
            "к\n",
            "Вы выбрали камень\n",
            "Компьютер выбрал бумагу\n",
            "Ваш камень завёрнут\n",
            " 0 1 0\n",
            "к н б или в\n",
            "н\n",
            "Вы выбрали ножницы\n",
            "Компьютер выбрал ножницы\n",
            "ничья\n",
            " 0 1 1\n",
            "к н б или в\n",
            "б\n",
            "Вы выбрали бумагу\n",
            "Компьютер выбрал камень\n",
            "Бумага заворачивает камень\n",
            " 1 1 1\n",
            "к н б или в\n"
          ]
        }
      ],
      "source": [
        "import random, sys\n",
        "print( 'камень, ножницы, бумага' )\n",
        "wins = 0\n",
        "loss = 0\n",
        "ties = 0\n",
        "while True :\n",
        "  print( f' { wins } { loss } { ties }' )\n",
        "  while True :\n",
        "    print( 'к н б или в' )\n",
        "    playerMove = input()\n",
        "    if playerMove == 'в' :\n",
        "      sys.exit()\n",
        "    if playerMove == 'к' or playerMove == 'н' or playerMove == 'б' :\n",
        "      break\n",
        "    print( '-------------> к н б или в' )\n",
        "  if playerMove == 'к' :\n",
        "    print( 'Вы выбрали камень' )\n",
        "  if playerMove == 'н' :\n",
        "    print( 'Вы выбрали ножницы' )\n",
        "  if playerMove == 'б' :\n",
        "    print( 'Вы выбрали бумагу' )\n",
        "\n",
        "  rand = random.randint( 1, 3 )\n",
        "  if rand == 1 :\n",
        "    compMove = 'к'\n",
        "    print( 'Компьютер выбрал камень' )  \n",
        "  if rand == 2 :\n",
        "    compMove = 'н'\n",
        "    print( 'Компьютер выбрал ножницы' )  \n",
        "  if rand == 3 :\n",
        "    compMove = 'б'\n",
        "    print( 'Компьютер выбрал бумагу' )  \n",
        "\n",
        "  if playerMove == compMove :\n",
        "    print( 'ничья' )\n",
        "    ties = ties + 1\n",
        "  if playerMove == 'к' and compMove == 'н' :\n",
        "    print( 'Камень ломает ножницы' ) \n",
        "    wins = wins + 1\n",
        "  if playerMove == 'б' and compMove == 'к' :\n",
        "    print( 'Бумага заворачивает камень' ) \n",
        "    wins = wins + 1\n",
        "  if playerMove == 'н' and compMove == 'б' :\n",
        "    print( 'Ножницы режут бумагу' ) \n",
        "    wins = wins + 1\n",
        "\n",
        "  if compMove == 'к' and playerMove == 'н' :\n",
        "    print( 'Ваши ножницы сломаны' ) \n",
        "    loss = loss + 1\n",
        "  if compMove == 'б' and playerMove == 'к' :\n",
        "    print( 'Ваш камень завёрнут' ) \n",
        "    loss = loss + 1\n",
        "  if compMove == 'н' and playerMove == 'б' :\n",
        "    print( 'Ваша бумага разрезана' ) \n",
        "    loss = loss + 1"
      ]
    }
  ]
}