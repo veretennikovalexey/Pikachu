{
  "nbformat": 4,
  "nbformat_minor": 0,
  "metadata": {
    "colab": {
      "name": "pprint.ipynb",
      "provenance": [],
      "authorship_tag": "ABX9TyN35hQbo4bn0oPzvfTRR5qG"
    },
    "kernelspec": {
      "name": "python3",
      "display_name": "Python 3"
    },
    "language_info": {
      "name": "python"
    }
  },
  "cells": [
    {
      "cell_type": "code",
      "execution_count": 5,
      "metadata": {
        "colab": {
          "base_uri": "https://localhost:8080/"
        },
        "id": "7E4audXuyk_g",
        "outputId": "d883d085-5a40-498f-c7ef-3caca7fc7bec"
      },
      "outputs": [
        {
          "output_type": "stream",
          "name": "stdout",
          "text": [
            "{' ': 2,\n",
            " 'A': 3,\n",
            " 'd': 1,\n",
            " 'e': 3,\n",
            " 'l': 1,\n",
            " 'm': 1,\n",
            " 'n': 1,\n",
            " 'r': 2,\n",
            " 't': 1,\n",
            " 'x': 1,\n",
            " 'y': 1}\n"
          ]
        }
      ],
      "source": [
        "import pprint\n",
        "message = 'Alex Andrey Artem'\n",
        "count = {}\n",
        "\n",
        "for character in message :\n",
        "  count.setdefault( character, 0 )\n",
        "  count[ character ] = count[ character ] + 1\n",
        "\n",
        "pprint.pprint( count )"
      ]
    }
  ]
}